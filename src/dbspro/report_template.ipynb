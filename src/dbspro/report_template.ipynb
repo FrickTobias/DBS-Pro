{
 "cells": [
  {
   "cell_type": "markdown",
   "metadata": {},
   "source": [
    "# DBS-Pro Analysis Report\n",
    "\n",
    "### Imports"
   ]
  },
  {
   "cell_type": "code",
   "execution_count": null,
   "metadata": {},
   "outputs": [],
   "source": [
    "%matplotlib inline\n",
    "import pandas as pd\n",
    "import numpy as np\n",
    "import seaborn as sns\n",
    "import matplotlib.pyplot as plt\n",
    "\n",
    "from dbspro.cli.config import load_yaml, print_construct"
   ]
  },
  {
   "cell_type": "markdown",
   "metadata": {},
   "source": [
    "## Run info\n",
    "### Sample info"
   ]
  },
  {
   "cell_type": "code",
   "execution_count": null,
   "metadata": {},
   "outputs": [],
   "source": [
    "df = pd.read_csv(\"samples.tsv\", sep=\"\\t\").set_index(\"Sample\")\n",
    "df.style.bar(subset=[\"Reads\"], vmin=0)"
   ]
  },
  {
   "cell_type": "markdown",
   "metadata": {},
   "source": [
    "### Configs"
   ]
  },
  {
   "cell_type": "code",
   "execution_count": null,
   "metadata": {},
   "outputs": [],
   "source": [
    "data, _ = load_yaml(\"dbspro.yaml\")\n",
    "df = pd.DataFrame.from_dict(data, orient=\"index\", columns=[\"Value\"])\n",
    "df.index.name = \"Parameter\"\n",
    "display(df)"
   ]
  },
  {
   "cell_type": "markdown",
   "metadata": {},
   "source": [
    "### Construct"
   ]
  },
  {
   "cell_type": "code",
   "execution_count": null,
   "metadata": {},
   "outputs": [],
   "source": [
    "print_construct(\"dbspro.yaml\")"
   ]
  },
  {
   "cell_type": "markdown",
   "metadata": {},
   "source": [
    "\n",
    "## Dataprocessing"
   ]
  },
  {
   "cell_type": "markdown",
   "metadata": {},
   "source": [
    "### Data loading"
   ]
  },
  {
   "cell_type": "code",
   "execution_count": null,
   "metadata": {
    "scrolled": true
   },
   "outputs": [],
   "source": [
    "dtypes = {\n",
    "    \"Barcode\": \"object\",\n",
    "    \"Target\": \"object\",\n",
    "    \"UMI\": \"object\",\n",
    "    \"ReadCount\": int,\n",
    "    \"Sample\": \"category\"\n",
    "}\n",
    "data_raw = pd.read_csv(\"data.tsv.gz\", sep=\"\\t\", dtype=dtypes)\n",
    "data_raw.head()"
   ]
  },
  {
   "cell_type": "code",
   "execution_count": null,
   "metadata": {},
   "outputs": [],
   "source": [
    "labels = list(set(data_raw[\"Sample\"]))\n",
    "labels.sort(reverse=True)\n",
    "nr_cols = 4 if len(labels) > 4 else len(labels)"
   ]
  },
  {
   "cell_type": "markdown",
   "metadata": {},
   "source": [
    "### Overall QC"
   ]
  },
  {
   "cell_type": "code",
   "execution_count": null,
   "metadata": {},
   "outputs": [],
   "source": [
    "d = data_raw.groupby(\"Sample\", as_index=False)[\"ReadCount\"].sum()\n",
    "d[\"ReadCount\"] /= 1_000_000\n",
    "ax = sns.barplot(data=d, y=\"Sample\", x=\"ReadCount\", order=labels)\n",
    "_ = ax.set_xlabel(\"Reads (M)\")\n",
    "_ = ax.set_title(\"Nr reads per Sample\")"
   ]
  },
  {
   "cell_type": "code",
   "execution_count": null,
   "metadata": {},
   "outputs": [],
   "source": [
    "d = data_raw.groupby(\"Sample\", as_index=False)[\"UMI\"].count()\n",
    "d[\"UMI\"] /= 1_000\n",
    "ax = sns.barplot(data=d, y=\"Sample\", x=\"UMI\", order=labels)\n",
    "_ = ax.set_xlabel(\"UMIs (k)\")\n",
    "_ = ax.set_title(\"Nr UMIs per Sample\")"
   ]
  },
  {
   "cell_type": "code",
   "execution_count": null,
   "metadata": {},
   "outputs": [],
   "source": [
    "d = data_raw.groupby(\"Sample\").agg({\"Barcode\":\"nunique\"})\n",
    "d[\"Barcode\"] /= 1_000\n",
    "ax = sns.barplot(data=d, y=d.index, x=\"Barcode\", order=labels)\n",
    "_ = ax.set_xlabel(\"Barcodes (k)\")\n",
    "_ = ax.set_title(\"Nr Barcodes per Sample\")"
   ]
  },
  {
   "cell_type": "code",
   "execution_count": null,
   "metadata": {},
   "outputs": [],
   "source": [
    "d = data_raw.groupby(\"Sample\").agg({\"Target\":\"nunique\"})\n",
    "ax = sns.barplot(data=d, y=d.index, x=\"Target\", order=labels)\n",
    "_ = ax.set_xlabel(\"Targets\")\n",
    "_ = ax.set_title(\"Nr Targets per Sample\")"
   ]
  },
  {
   "cell_type": "code",
   "execution_count": null,
   "metadata": {},
   "outputs": [],
   "source": [
    "d = data_raw.groupby([\"Sample\", \"Target\"], as_index=False, observed=True).agg({\"UMI\":\"count\"})\n",
    "d[\"UMI\"] /= 1000\n",
    "g = sns.catplot(data=d, y=\"Sample\", x=\"UMI\",  col=\"Target\", col_wrap=4, kind=\"bar\")\n",
    "g.fig.subplots_adjust(top=0.85)\n",
    "_ = g.fig.suptitle(\"Nr UMIs per Targets\")\n",
    "_ = g.set_axis_labels(\"UMIs (k)\", \"\")"
   ]
  },
  {
   "cell_type": "code",
   "execution_count": null,
   "metadata": {},
   "outputs": [],
   "source": [
    "fig, ax = plt.subplots(figsize=(10,6))\n",
    "ax.set_title(\"UMI count distribution\")\n",
    "for label in labels:\n",
    "    temp = data_raw[data_raw[\"Sample\"] == label].groupby(\"Barcode\", as_index=False)[\"UMI\"].count().sort_values(by=\"UMI\",ascending=False).reset_index(drop=True)\n",
    "    try:\n",
    "        temp.plot(ax=ax, y=\"UMI\", logx=True, logy=True, label=label)\n",
    "    except TypeError:\n",
    "        pass\n",
    "    \n",
    "ax.set_xlabel(\"DBS rank\")\n",
    "ax.set_ylabel(\"Total UMI count\")\n",
    "ax.grid('on', which='major', axis='y', alpha=0.5 )\n",
    "ax.grid('on', which='major', axis='x',alpha=0.5)\n",
    "ax.grid('on', which='minor', axis='y', alpha=0.3)\n",
    "ax.grid('on', which='minor', axis='x', alpha=0.3)\n",
    "_ = plt.legend(bbox_to_anchor=(1.02, 1), title=\"Sample\", loc='upper left')"
   ]
  },
  {
   "cell_type": "code",
   "execution_count": null,
   "metadata": {},
   "outputs": [],
   "source": [
    "fig, ax = plt.subplots(figsize=(14,6))\n",
    "ax.set_title(\"Read count per UMI\")\n",
    "for label in labels:\n",
    "    temp = data_raw[data_raw[\"Sample\"] == label].groupby(\"UMI\", as_index=False)[\"ReadCount\"].sum().sort_values(by=\"UMI\",ascending=False).reset_index(drop=True)\n",
    "    temp[\"GC\"] = temp[\"UMI\"].apply(lambda x: sum([c in {\"G\",\"C\"} for c in x])/len(x)) \n",
    "    temp[\"ReadCount\"] = temp[\"ReadCount\"]/temp[\"ReadCount\"].sum()\n",
    "    try:\n",
    "        temp.plot(ax=ax, y=\"ReadCount\", logx=False, logy=False, label=label, alpha=0.5)\n",
    "    except TypeError:\n",
    "        pass\n",
    "ax.set_xlabel(\"UMI (alphabeticaly ranked)\")\n",
    "ax.set_ylabel(\"% of total reads\")\n",
    "ax.grid('on', which='major', axis='y', alpha=0.5 )\n",
    "ax.grid('on', which='major', axis='x',alpha=0.5)\n",
    "ax.grid('on', which='minor', axis='y', alpha=0.3)\n",
    "ax.grid('on', which='minor', axis='x', alpha=0.3)\n",
    "_ = plt.legend(bbox_to_anchor=(1.02, 1), title=\"Samples\", loc='upper left')"
   ]
  },
  {
   "cell_type": "code",
   "execution_count": null,
   "metadata": {},
   "outputs": [],
   "source": [
    "temp = data_raw.groupby([\"Sample\", \"UMI\"], as_index=False, observed=True)[\"ReadCount\"].sum().sort_values(by=\"UMI\",ascending=False).reset_index(drop=True).copy()\n",
    "temp[\"% GC\"] = temp[\"UMI\"].apply(lambda x: int(100*sum([c in {\"G\",\"C\"} for c in x])/len(x)))\n",
    "g = sns.catplot(data=temp, x=\"% GC\", y=\"ReadCount\", col=\"Sample\", col_wrap=nr_cols, height=2, aspect=2, \n",
    "                 kind=\"point\", sharey=False, capsize=0.1, estimator=np.median)\n",
    "\n",
    "g.fig.subplots_adjust(top=0.8)\n",
    "_ = g.fig.suptitle('GC bias in UMIs')"
   ]
  },
  {
   "cell_type": "code",
   "execution_count": null,
   "metadata": {},
   "outputs": [],
   "source": [
    "temp = data_raw.groupby([\"Sample\", \"Barcode\"], as_index=False)[\"ReadCount\"].sum().sort_values(by=\"Barcode\",ascending=False).reset_index(drop=True).copy()\n",
    "temp[\"% GC\"] = temp[\"Barcode\"].apply(lambda x: int(100*sum([c in {\"G\",\"C\"} for c in x])/len(x))) \n",
    "g = sns.catplot(data=temp, x=\"% GC\", y=\"ReadCount\", col=\"Sample\", height=2, aspect=2, col_wrap=nr_cols, \n",
    "                kind=\"point\", alpha=0.7, sharey=False, capsize=0.1, estimator=np.median)\n",
    "\n",
    "g.fig.subplots_adjust(top=0.8)\n",
    "_ = g.fig.suptitle('GC bias in Barcodes')"
   ]
  }
 ],
 "metadata": {
  "kernelspec": {
   "display_name": "Python 3.6.13 64-bit ('dbspro': conda)",
   "name": "python3613jvsc74a57bd08127a2e344e642bab1d72ada093fd2f8164d739b45aadc70c515ec1ec88676a8"
  },
  "language_info": {
   "codemirror_mode": {
    "name": "ipython",
    "version": 3
   },
   "file_extension": ".py",
   "mimetype": "text/x-python",
   "name": "python",
   "nbconvert_exporter": "python",
   "pygments_lexer": "ipython3",
   "version": "3.6.13"
  }
 },
 "nbformat": 4,
 "nbformat_minor": 2
}
