{
 "cells": [
  {
   "cell_type": "markdown",
   "metadata": {},
   "source": [
    "# DBS-Pro Analysis Report\n",
    "\n",
    "## Dataprocessing\n",
    "### Load data"
   ]
  },
  {
   "cell_type": "code",
   "execution_count": null,
   "metadata": {
    "scrolled": true
   },
   "outputs": [],
   "source": [
    "%matplotlib inline\n",
    "# Imports\n",
    "import pandas as pd\n",
    "import seaborn as sns\n",
    "import matplotlib.pyplot as plt\n",
    "\n",
    "#Data import \n",
    "df = pd.read_csv(\"data.tsv\", sep=\"\\t\")\n",
    "df.head()"
   ]
  },
  {
   "cell_type": "markdown",
   "metadata": {},
   "source": [
    "### Filter data"
   ]
  },
  {
   "cell_type": "code",
   "execution_count": null,
   "metadata": {},
   "outputs": [],
   "source": [
    "# Filter for read count\n",
    "readcount_thres=1\n",
    "df_filt = df[df[\"ReadCount\"] > readcount_thres]\n",
    "\n",
    "# Filter on umi count if requested.\n",
    "umicount_thres=0\n",
    "if umicount_thres > 0:\n",
    "    df_filt = df_filt.groupby(\"Barcode\", as_index=False).filter(lambda x: x[\"UMI\"].count() > umicount_thres)"
   ]
  },
  {
   "cell_type": "markdown",
   "metadata": {},
   "source": [
    "### Merge data"
   ]
  },
  {
   "cell_type": "code",
   "execution_count": null,
   "metadata": {},
   "outputs": [],
   "source": [
    "#Merge to long format\n",
    "df_counts = df_filt.groupby([\"Barcode\",\"Target\"], as_index=False)[\"UMI\"].count()\n",
    "df_counts.head()"
   ]
  },
  {
   "cell_type": "code",
   "execution_count": null,
   "metadata": {},
   "outputs": [],
   "source": [
    "#Get count matrix\n",
    "count_matrix = df_counts.set_index(\"Barcode\").pivot(columns=\"Target\", values=\"UMI\").fillna(0)\n",
    "count_matrix.head()"
   ]
  },
  {
   "cell_type": "markdown",
   "metadata": {},
   "source": [
    "## Results"
   ]
  },
  {
   "cell_type": "markdown",
   "metadata": {},
   "source": [
    "### Stats"
   ]
  },
  {
   "cell_type": "code",
   "execution_count": null,
   "metadata": {},
   "outputs": [],
   "source": [
    "print(f\"Total DBS-ABC-UMI combos, {len(df_filt)}\")\n",
    "print(f\"Total DBS count, {len(df_filt.groupby('Barcode'))}\")"
   ]
  },
  {
   "cell_type": "markdown",
   "metadata": {},
   "source": [
    "### UMI counts"
   ]
  },
  {
   "cell_type": "code",
   "execution_count": null,
   "metadata": {},
   "outputs": [],
   "source": [
    "ax = df_counts.groupby(\"Barcode\", as_index=False)[\"UMI\"].sum().sort_values(by=\"UMI\", ascending=False).reset_index().plot(y=\"UMI\")\n",
    "ax.set_ylabel(\"UMIs per barcode\")\n",
    "ax.set_xlabel(\"Barcode rank\")"
   ]
  },
  {
   "cell_type": "markdown",
   "metadata": {},
   "source": [
    "### Box plots"
   ]
  },
  {
   "cell_type": "code",
   "execution_count": null,
   "metadata": {},
   "outputs": [],
   "source": [
    "g = sns.boxplot(data=df_counts, x=\"Target\", y=\"UMI\")\n",
    "g.set(ylabel=\"UMI count\", title=\"UMI count\")"
   ]
  },
  {
   "cell_type": "markdown",
   "metadata": {},
   "source": [
    "### Paired plots"
   ]
  },
  {
   "cell_type": "code",
   "execution_count": null,
   "metadata": {},
   "outputs": [],
   "source": [
    "def pair_heatmap(df, title=None):\n",
    "    # Based of https://stackoverflow.com/questions/43924280/pair-plot-with-heat-maps-possibly-logarithmic\n",
    "    from matplotlib.colors import LogNorm\n",
    "    sns.set(style=\"white\")\n",
    "    g = sns.PairGrid(df)\n",
    "    g.map_diag(plt.hist, bins=20)\n",
    "    \n",
    "    # Set title\n",
    "    plt.subplots_adjust(top=0.9)\n",
    "    g.fig.suptitle(title)\n",
    "    \n",
    "    def pairgrid_heatmap(x, y, **kws):\n",
    "        cmap = sns.light_palette(kws.pop(\"color\"), as_cmap=True)\n",
    "        plt.hist2d(x, y, cmap=cmap, cmin=1, **kws)\n",
    "\n",
    "    g.map_offdiag(pairgrid_heatmap, bins=20, norm=LogNorm())"
   ]
  },
  {
   "cell_type": "code",
   "execution_count": null,
   "metadata": {},
   "outputs": [],
   "source": [
    "pair_heatmap(count_matrix, title=\"UMI count\")"
   ]
  }
 ],
 "metadata": {
  "kernelspec": {
   "display_name": "Python 3",
   "language": "python",
   "name": "python3"
  },
  "language_info": {
   "codemirror_mode": {
    "name": "ipython",
    "version": 3
   },
   "file_extension": ".py",
   "mimetype": "text/x-python",
   "name": "python",
   "nbconvert_exporter": "python",
   "pygments_lexer": "ipython3",
   "version": "3.6.7"
  }
 },
 "nbformat": 4,
 "nbformat_minor": 2
}
